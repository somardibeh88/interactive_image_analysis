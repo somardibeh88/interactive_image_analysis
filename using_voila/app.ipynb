{
 "cells": [
  {
   "cell_type": "code",
   "execution_count": null,
   "id": "9e9fc977",
   "metadata": {},
   "outputs": [],
   "source": [
    "from IPython.display import display\n",
    "from imageanalysis.calibrated_images_class import CalibratedImages\n",
    "calibrated_images = CalibratedImages('stack.h5', font_path='SourceSansPro-Semibold.otf')\n",
    "display(calibrated_images.tabs)"
   ]
  }
 ],
 "metadata": {
  "kernelspec": {
   "display_name": "image_analysis",
   "language": "python",
   "name": "python3"
  },
  "language_info": {
   "codemirror_mode": {
    "name": "ipython",
    "version": 3
   },
   "file_extension": ".py",
   "mimetype": "text/x-python",
   "name": "python",
   "nbconvert_exporter": "python",
   "pygments_lexer": "ipython3",
   "version": "3.11.6"
  }
 },
 "nbformat": 4,
 "nbformat_minor": 5
}
