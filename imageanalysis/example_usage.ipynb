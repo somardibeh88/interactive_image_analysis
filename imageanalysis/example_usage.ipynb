{
 "cells": [
  {
   "cell_type": "code",
   "execution_count": null,
   "id": "61d5ce97",
   "metadata": {},
   "outputs": [],
   "source": [
    "%matplotlib qt5\n",
    "import numpy as np\n",
    "from imageanalysis.features_analysis import FeaturesAnalysis\n",
    "font_path = \"/home/somar/.fonts/SourceSansPro-Semibold.otf\" \n",
    "\n",
    "stacks = ['/home/somar/Desktop/2025/Data for publication/Multilayer graphene/Sample 2476/stacktest1.h5']\n",
    "stacks_ssb = ['/home/somar/Desktop/2025/Data for publication/Sample 2525/SSB reconstruction of 4d STEM data/stack_ssbs.h5']\n",
    "stacks_ssb1 = ['/home/somar/Desktop/2025/Data for publication/Sample 2525/SSB reconstruction of 4d STEM data/stack.h5']\n",
    "\n",
    "stacks_adf = ['/home/somar/Desktop/2025/Data for publication/Sample 2525/ADF images/stack.h5']\n",
    "\n",
    "stack = stacks[0]\n",
    "s = '/home/somar/test /stack.h5'\n",
    "image_analysis = FeaturesAnalysis(stacks_ssb1[0], font_path=font_path)"
   ]
  },
  {
   "cell_type": "code",
   "execution_count": null,
   "id": "325eae28",
   "metadata": {},
   "outputs": [],
   "source": [
    "from imageanalysis.fft_calibration_class import FFTCalibration\n",
    "from imageanalysis.data_loader import DataLoader\n",
    "stacks = ['/home/somar/Desktop/2025/Data for publication/Multilayer graphene/Sample 2476/stacktest1.h5']\n",
    "stacks_ssb1 = ['/home/somar/Desktop/2025/Data for publication/Sample 2525/SSB reconstruction of 4d STEM data/stack.h5']\n",
    "img_stack = DataLoader(stacks[0])\n",
    "stack = stacks[0]\n",
    "\n",
    "metadata = img_stack.raw_metadata\n",
    "\n",
    "calibrator = FFTCalibration(stack=img_stack)\n",
    "calibrator.fft_calibrate()"
   ]
  },
  {
   "cell_type": "code",
   "execution_count": null,
   "id": "46a08ddc",
   "metadata": {},
   "outputs": [],
   "source": [
    "%matplotlib qt5\n",
    "from imageanalysis.feature_analysis import FeaturesAnalysis\n",
    "from imageanalysis.data_loader import DataLoader\n",
    "\n",
    "stacks = ['/home/somar/Desktop/2025/Data for publication/Multilayer graphene/Sample 2476/stacktest1.h5']\n",
    "stacks_adf = ['/home/somar/Desktop/2025/Data for publication/Sample 2525/ADF images/stack.h5']\n",
    "\n",
    "stack = stacks[0]   \n",
    "\n",
    "image_analysis = FeaturesAnalysis(stacks_adf[0])\n"
   ]
  },
  {
   "cell_type": "code",
   "execution_count": null,
   "id": "0491bf5c",
   "metadata": {},
   "outputs": [],
   "source": [
    "import pandas as pd\n",
    "df_path = 'analysis_results.csv'\n",
    "df = pd.read_csv(df_path)\n",
    "pd.set_option('display.max_columns', None)\n",
    "pd.set_option('display.max_rows', None)\n",
    "df\n"
   ]
  },
  {
   "cell_type": "code",
   "execution_count": null,
   "id": "d987631c",
   "metadata": {},
   "outputs": [],
   "source": [
    "# %matplotlib qt5\n",
    "%matplotlib qt5\n",
    "\n",
    "font_path = \"/home/somar/.fonts/SourceSansPro-Semibold.otf\" \n",
    "adf_sequence = \"/home/somar/Desktop/2025/Data for publication/ADF sequences_20-01-2025/stack.h5\"\n",
    "stacks_ssb1 = ['/home/somar/Desktop/2025/Data for publication/Sample 2525/SSB reconstruction of 4d STEM data/stack.h5']\n",
    "stacks_before_heating = ['/home/somar/Desktop/2025/Data for publication/Sample 2525/before heating 150/stacks.h5']\n",
    "stacks_after_heating = ['/home/somar/Desktop/2025/Data for publication/Sample 2525/after heating 150/stacks.h5']\n",
    "stack_b = stacks_before_heating[0]\n",
    "stack_a = stacks_after_heating[0]\n",
    "\n",
    "from imageanalysis.image_processing import CalibratedImages\n",
    "calibrated_images = CalibratedImages(stacks_ssb1[0], font_path=font_path)\n",
    "# from vcr_to_gif_calibrated import VCRToGIF\n",
    "# font_path = \"/home/somar/.fonts/SourceSansPro-Semibold.otf\" \n",
    "\n",
    "# vcr_to_gif = VCRToGIF(fp2)\n",
    "# vcr_to_gif.images.shape\n",
    "\n"
   ]
  },
  {
   "cell_type": "code",
   "execution_count": null,
   "id": "0cbd5e1c",
   "metadata": {},
   "outputs": [],
   "source": [
    "%matplotlib qt5\n",
    "\n",
    "import h5py\n",
    "stacks_after_heating = ['/home/somar/Desktop/2025/Data for publication/Sample 2525/after heating 150/stacks.h5']\n",
    "\n",
    "adf_sequence = \"/home/somar/Desktop/2025/Data for publication/ADF sequences_20-01-2025/stack.h5\"\n",
    "fp2 = '/home/somar/Desktop/2025/Data for publication/ADF sequences_20-01-2025/Sequence-HAADF-2_2025-01-20T221437.166476_100x512x512_2.ndata1'\n",
    "font_path = \"/home/somar/.fonts/SourceSansPro-Semibold.otf\" \n",
    "\n",
    "from imageanalysis.image_processing import CalibratedImages\n",
    "calibrated_images = CalibratedImages(stacks_after_heating[0], font_path=font_path)\n"
   ]
  },
  {
   "cell_type": "code",
   "execution_count": null,
   "id": "42e5b7ca",
   "metadata": {},
   "outputs": [],
   "source": [
    "%matplotlib qt5\n",
    "font_path = \"/home/somar/.fonts/SourceSansPro-Semibold.otf\" \n",
    "stacks_ssb_2525 = ['/home/somar/Desktop/2025/Data for publication/ssb images/Sample 2525/09-04 After laser before heating/stacks.h5']\n",
    "\n",
    "\n",
    "stacks_ssb_2344 = ['/home/somar/Desktop/2025/Data for publication/ssb images/Sample 2344/after pt evaporation/stacks.h5']\n",
    "\n",
    "stack_2525 = stacks_ssb_2525[0]\n",
    "stack_2344 = stacks_ssb_2344[0]\n",
    "\n",
    "from imageanalysis.image_processing import CalibratedImages\n",
    "calibrated_images = CalibratedImages(stack_2344, font_path=font_path, display_widgets=True)"
   ]
  },
  {
   "cell_type": "code",
   "execution_count": null,
   "id": "5f594058",
   "metadata": {},
   "outputs": [],
   "source": [
    "px = [512, 1024, 2048, 4096]\n",
    "for p in px:\n",
    "    dpi = p * 2.54 / 4\n",
    "    print(f\"Pixels: {p}, DPI: {dpi}\")\n"
   ]
  },
  {
   "cell_type": "code",
   "execution_count": null,
   "id": "abee50a0",
   "metadata": {},
   "outputs": [],
   "source": [
    "# To get the dpi value for specific image size in cm consdering dots as pixels:\n",
    "\"\"\"dpi = Number_of_pixels * 2.54 / (image_width_in_cm)\"\"\""
   ]
  },
  {
   "cell_type": "code",
   "execution_count": null,
   "id": "25244dcb",
   "metadata": {},
   "outputs": [],
   "source": [
    "dpi = 1024 * 2.54 / 4\n",
    "dpi"
   ]
  },
  {
   "cell_type": "code",
   "execution_count": null,
   "id": "8a8da15d",
   "metadata": {},
   "outputs": [],
   "source": [
    "260/512"
   ]
  },
  {
   "cell_type": "code",
   "execution_count": null,
   "id": "c332146e",
   "metadata": {},
   "outputs": [],
   "source": [
    "0.5078125 * 625"
   ]
  },
  {
   "cell_type": "code",
   "execution_count": null,
   "id": "0f9789c7",
   "metadata": {},
   "outputs": [],
   "source": [
    "pt= 10\n",
    "pt_inch = pt / 72\n",
    "print('hight in inch 10 pts need:', pt_inch)\n",
    "pt_cm = pt_inch * 2.54\n",
    "print('hight in cm 10 pts need:', pt_cm)\n",
    "\n"
   ]
  },
  {
   "cell_type": "code",
   "execution_count": null,
   "id": "c42d2cfa",
   "metadata": {},
   "outputs": [],
   "source": [
    "%matplotlib qt5\n",
    "from imageanalysis.data_loader import DataLoader\n",
    "from matplotlib import pyplot as plt\n",
    "import numpy as np\n",
    "import cv2\n",
    "from scipy.ndimage import gaussian_filter\n",
    "font_path = \"/home/somar/.fonts/SourceSansPro-Semibold.otf\" \n",
    "\n",
    "stacks_ssb1 = ['/home/somar/Desktop/2025/Data for publication/Sample 2525/SSB reconstruction of 4d STEM data/stack.h5']\n",
    "stacks_before_heating = ['/home/somar/Desktop/2025/Data for publication/Sample 2525/before heating 150/stacks.h5']\n",
    "\n",
    "# Load image\n",
    "img = DataLoader(stacks_before_heating[0])\n",
    "img35 = img.raw_data[44]\n",
    "print(img35.shape)\n",
    "# Print raw min/max\n",
    "print(\"Raw min/max:\", img35.min(), img35.max())\n",
    "\n",
    "# Normalize to [0, 1]\n",
    "img35 = img35 - img35.min()\n",
    "img35 = img35 / img35.max()\n",
    "\n",
    "# Convert to 8-bit range [0, 255] as float32\n",
    "img35 = (img35 * 255).astype(np.float32)\n",
    "\n",
    "brightness_offset = 230\n",
    "img35 = cv2.add(img35, brightness_offset)\n",
    "\n",
    "# Clip to valid display range if needed\n",
    "img35_display = np.clip(img35, 0, 255).astype(np.uint8)\n",
    "img35_display = cv2.GaussianBlur(img35_display, (15, 15), 1) \n",
    "# Histogram corrected for full range [0, 255]\n",
    "histogram, bins = np.histogram(img35_display, bins=256, range=(0, 255))\n",
    "\n",
    "# 98th percentile threshold\n",
    "int_percentile = np.percentile(img35_display, 93)\n",
    "print(f\"93rd percentile: {int_percentile:.2f}\")\n",
    "\n",
    "# Binary thresholding based on 98th percentile\n",
    "thresh, img_thresh = cv2.threshold(img35_display, int_percentile, 1, cv2.THRESH_BINARY)\n",
    "print('Threshold value used:', thresh)\n",
    "print('Shape of thresholded image:', img_thresh.shape)\n",
    "\n",
    "# Plot histogram\n",
    "plt.plot(bins[:-1], histogram, color='black')\n",
    "plt.ylim(0, 400)\n",
    "# plt.xlim(20, 155)\n",
    "\n",
    "# Show images\n",
    "fig, ax = plt.subplots(1, 2, figsize=(12, 6))\n",
    "ax[0].imshow(img_thresh, cmap='gray')\n",
    "ax[0].set_title('Thresholded Image (98th Percentile)')\n",
    "ax[1].imshow(img35_display / 255, cmap='gray')  # Normalize to [0,1] for display\n",
    "# ax[1].set_title(f'Brightened Image (+{brightness_offset})')\n",
    "plt.tight_layout()\n",
    "plt.show()\n",
    "\n"
   ]
  },
  {
   "cell_type": "code",
   "execution_count": null,
   "id": "cbb34ac0",
   "metadata": {},
   "outputs": [],
   "source": []
  }
 ],
 "metadata": {
  "kernelspec": {
   "display_name": "image_analysis",
   "language": "python",
   "name": "python3"
  },
  "language_info": {
   "codemirror_mode": {
    "name": "ipython",
    "version": 3
   },
   "file_extension": ".py",
   "mimetype": "text/x-python",
   "name": "python",
   "nbconvert_exporter": "python",
   "pygments_lexer": "ipython3",
   "version": "3.11.6"
  }
 },
 "nbformat": 4,
 "nbformat_minor": 5
}
