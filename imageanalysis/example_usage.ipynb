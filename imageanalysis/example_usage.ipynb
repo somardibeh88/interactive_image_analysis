{
 "cells": [
  {
   "cell_type": "code",
   "execution_count": null,
   "id": "61d5ce97",
   "metadata": {},
   "outputs": [],
   "source": [
    "%matplotlib qt5\n",
    "import numpy as np\n",
    "from imageanalysis.interactive_image_analysis import InteractiveImageAnalysis\n",
    "\n",
    "font_path = \"/home/somar/.fonts/SourceSansPro-Semibold.otf\" \n",
    "\n",
    "stacks = ['/home/somar/Desktop/2025/Data for publication/Multilayer graphene/Sample 2476/stacktest1.h5']\n",
    "stacks_ssb = ['/home/somar/Desktop/2025/Data for publication/Sample 2525/SSB reconstruction of 4d STEM data/stack_ssbs.h5']\n",
    "stacks_ssb1 = ['/home/somar/Desktop/2025/Data for publication/Sample 2525/SSB reconstruction of 4d STEM data/stack.h5']\n",
    "\n",
    "stacks_adf = ['/home/somar/Desktop/2025/Data for publication/Sample 2525/ADF images/stack.h5']\n",
    "\n",
    "stack = stacks[0]\n",
    "s = '/home/somar/test /stack.h5'\n",
    "# image_analysis = InteractiveImageAnalysis(stacks_ssb1[0], metadata_path=None, analysing_features=False, save_images_with_calibrated_scalebar=TabError, fixed_length_scalebar=True,\n",
    "#                                            clean_graphene_analysis=True, contamination_analysis=False, clusters_analysis=True , defects_analysis=False, font_path=font_path)"
   ]
  },
  {
   "cell_type": "code",
   "execution_count": null,
   "id": "325eae28",
   "metadata": {},
   "outputs": [],
   "source": [
    "from imageanalysis.fft_calibration_class import FFTCalibration\n",
    "from imageanalysis.data_loader import DataLoader\n",
    "stacks = ['/home/somar/Desktop/2025/Data for publication/Multilayer graphene/Sample 2476/stacktest1.h5']\n",
    "stacks_ssb1 = ['/home/somar/Desktop/2025/Data for publication/Sample 2525/SSB reconstruction of 4d STEM data/stack.h5']\n",
    "img_stack = DataLoader(stacks[0])\n",
    "stack = stacks[0]\n",
    "\n",
    "metadata = img_stack.raw_metadata\n",
    "\n",
    "calibrator = FFTCalibration(stack=img_stack)\n",
    "calibrator.fft_calibrate()"
   ]
  },
  {
   "cell_type": "code",
   "execution_count": null,
   "id": "d987631c",
   "metadata": {},
   "outputs": [],
   "source": [
    "%matplotlib qt5\n",
    "font_path = \"/home/somar/.fonts/SourceSansPro-Semibold.otf\" \n",
    "stacks_ssb1 = ['/home/somar/Desktop/2025/Data for publication/Sample 2525/SSB reconstruction of 4d STEM data/stack.h5']\n",
    "\n",
    "from imageanalysis.calibrated_images_class import CalibratedImages\n",
    "calibrated_images = CalibratedImages(stacks_ssb1[0], font_path=font_path)\n"
   ]
  },
  {
   "cell_type": "code",
   "execution_count": null,
   "id": "5f594058",
   "metadata": {},
   "outputs": [],
   "source": []
  },
  {
   "cell_type": "code",
   "execution_count": null,
   "id": "abee50a0",
   "metadata": {},
   "outputs": [],
   "source": []
  }
 ],
 "metadata": {
  "kernelspec": {
   "display_name": "image_analysis",
   "language": "python",
   "name": "python3"
  },
  "language_info": {
   "codemirror_mode": {
    "name": "ipython",
    "version": 3
   },
   "file_extension": ".py",
   "mimetype": "text/x-python",
   "name": "python",
   "nbconvert_exporter": "python",
   "pygments_lexer": "ipython3",
   "version": "3.11.6"
  }
 },
 "nbformat": 4,
 "nbformat_minor": 5
}
