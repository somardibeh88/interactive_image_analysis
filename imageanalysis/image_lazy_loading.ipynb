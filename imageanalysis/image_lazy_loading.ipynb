{
 "cells": [
  {
   "cell_type": "code",
   "execution_count": null,
   "id": "1f4078df",
   "metadata": {},
   "outputs": [],
   "source": [
    "from data_loader import DataLoader, EELSLazyLoader"
   ]
  },
  {
   "cell_type": "code",
   "execution_count": null,
   "id": "b7c1ec23",
   "metadata": {},
   "outputs": [],
   "source": [
    "from data_loader import DataLoader, EELSLazyLoader\n",
    "filepath_ndata = '/home/somar/Desktop/own_stuff/cleaning script/example data files/081.ndata1'\n",
    "filepath_tiff = '/home/somar/Desktop/own_stuff/cleaning script/example data files/VCR stack (MAADF) cluster_2 14.11.tif'\n",
    "filepath_pkl = '/home/somar/Desktop/own_stuff/cleaning script/example data files/stack.pkl'\n",
    "metadata_pkl = '/home/somar/Desktop/own_stuff/cleaning script/example data files/metadata.pkl'\n",
    "filepath_h5 = '/home/somar/Desktop/own_stuff/cleaning script/example data files/stack.h5'\n",
    "filepath_eels = '/home/somar/Desktop/own_stuff/cleaning script/example data files/eels_point_spectrum_pairs.h5'\n",
    "stacks_ssb = ['/home/somar/Desktop/2025/Data for publication/Sample 2525/SSB reconstruction of 4d STEM data/stack_ssbs.h5']\n",
    "img = DataLoader(stacks_ssb[0])\n",
    "data = img.raw_data\n",
    "metadata = img.raw_metadata\n",
    "print(f\"Number of images: {len(data)}\")\n",
    "print(metadata[0])\n",
    "fov = img.get_specific_metadata('timezone', data = metadata['metadata_0022'])\n",
    "fov\n",
    "\n"
   ]
  },
  {
   "cell_type": "code",
   "execution_count": null,
   "id": "6f44b5f6",
   "metadata": {},
   "outputs": [],
   "source": [
    "# Load Ndata1 VCR stacks\n",
    "fp1 = '/home/somar/Desktop/2025/Data for publication/ADF sequences_20-01-2025/stack.h5'\n",
    "fp2 = '/home/somar/Desktop/2025/Data for publication/ADF sequences_20-01-2025/Sequence-HAADF-2_2025-01-20T221437.166476_100x512x512_2.ndata1'\n",
    "from data_loader import DataLoader, EELSLazyLoader\n",
    "img = DataLoader(fp2)\n",
    "\n",
    "data = img.raw_data\n",
    "metadata = img.raw_metadata\n",
    "print(data.shape)\n",
    "print(metadata[0])\n",
    "fov = img.get_specific_metadata(target_key='fov_nm', required_keys=[\"scan_device_properties\"])\n",
    "print(f\"Field of view: {fov}\")\n"
   ]
  },
  {
   "cell_type": "code",
   "execution_count": null,
   "id": "f314f49c",
   "metadata": {},
   "outputs": [],
   "source": [
    "# %matplotlib qt5\n",
    "# from vcr_to_gif_calibrated import VCRToGIF\n",
    "# font_path = \"/home/somar/.fonts/SourceSansPro-Semibold.otf\" \n",
    "\n",
    "# vcr_to_gif = VCRToGIF(fp2)\n",
    "# vcr_to_gif.images.shape"
   ]
  },
  {
   "cell_type": "code",
   "execution_count": null,
   "id": "f97cc313",
   "metadata": {},
   "outputs": [],
   "source": [
    "# Reading pkl data example\n",
    "idx = 10            # The image index you want to access and its metadata\n",
    "data = DataLoader(filepath_pkl).raw_data\n",
    "metadata = DataLoader(metadata_pkl).raw_metadata\n",
    "\n",
    "print(type(metadata), type(metadata[0]))\n",
    "print(f\"Number of images: {len(data)}\")\n",
    "print(data[idx].shape)\n",
    "print(f\"Metadata: {metadata[idx]}\")\n",
    "\n",
    "fov= metadata.get_metadata(target_key='fov_nm', data = metadata[0][idx])\n",
    "\n",
    "print(f\"FOV: {fov}\")\n",
    "\n",
    "fov_specific = metadata.get_specific_metadata('fov_nm', required_keys=['scan_device_properties'], data = metadata[0][idx])\n",
    "print(f\"FOV specific: {fov_specific}\")"
   ]
  },
  {
   "cell_type": "code",
   "execution_count": null,
   "id": "33ffed96",
   "metadata": {},
   "outputs": [],
   "source": [
    "# Reading Tiff data exmple\n",
    "h5_file = '/home/somar/Desktop/2025/Data for publication/Sample 2344/ADF images/stack.h5'\n",
    "img = DataLoader(filepath_h5)\n",
    "data = img.raw_data\n",
    "metadata = img.raw_metadata\n",
    "\n",
    "print(f\"Number of images: {len(data)}\")\n",
    "print(f\"Metadata for first image: {metadata[0]}\")"
   ]
  },
  {
   "cell_type": "code",
   "execution_count": null,
   "id": "89b555d3",
   "metadata": {},
   "outputs": [],
   "source": [
    "# Reading NDATA data example\n",
    "fp = '/home/somar/Desktop/own_stuff/cleaning script/example data files/SuperScan-MAADF_2025-02-26T153932.717062_2048x2048_0.ndata1'\n",
    "fp2 = '/home/somar/Desktop/own_stuff/cleaning script/example data files/VCR stack (MAADF) cluster_2 14.11.ndata1'\n",
    "img = DataLoader(fp)\n",
    "data = img.raw_data\n",
    "metadata = img.raw_metadata\n",
    "\n",
    "print(f\"Number of images: {len(data)}\")\n",
    "i = 0\n",
    "print(data[i].shape, data[i])\n",
    "print(f\"Metadata: {metadata[0]}\")  "
   ]
  },
  {
   "cell_type": "code",
   "execution_count": null,
   "id": "d8b1458d",
   "metadata": {},
   "outputs": [],
   "source": [
    "# Reading HDF5 data example. For h5 file format I choosed to index the metadata following this system: metadata_0001, metadata_0002, etc. but you still can access them using normal indexing as shwon below.\n",
    "img = DataLoader(filepath_h5)\n",
    "data = img.raw_data\n",
    "metadata = img.raw_metadata\n",
    "\n",
    "print(f\"Number of images: {len(data)}\")\n",
    "print(f\"Metadata for first image: {metadata[0]}\")\n",
    "\n",
    "# get specific data and metadata at specific index\n",
    "idx = 22\n",
    "print(f\"Image shape at index {idx}: {data[idx].shape}\")\n",
    "\n",
    "print(f\"Metadata at index {idx}: {metadata[idx]}\")\n",
    "title = metadata.get_metadata('title', data=metadata[idx])\n",
    "print(f\"Image title at index {idx}: {title}\")\n",
    "print(metadata['metadata_0022'])"
   ]
  },
  {
   "cell_type": "code",
   "execution_count": null,
   "id": "86093268",
   "metadata": {},
   "outputs": [],
   "source": [
    "#Reading EELS data example\n",
    "img = EELSLazyLoader(filepath_eels)\n",
    "data_image = img.image\n",
    "data_image_metadata = img.image_metadata\n",
    "data_spectrum = img.spectrum\n",
    "data_spectrum_metadata = img.spectrum_metadata\n",
    "data_filenames = img.get_original_filenames(0)\n",
    "print(f\"Number of pairs: {len(data_image)}\")\n",
    "print(f\"First image shape: {data_image[2].shape}\")\n",
    "print(f\"First spectrum shape: {len(data_spectrum[0])}\")\n",
    "print(f\"First image metadata: {data_image_metadata[0]}\")\n",
    "print(f\"First spectrum metadata: {data_spectrum_metadata[0]}\")\n",
    "print(f\"Original filenames for first pair: {data_filenames}\")"
   ]
  },
  {
   "cell_type": "code",
   "execution_count": null,
   "id": "5cfb7d40",
   "metadata": {},
   "outputs": [],
   "source": []
  },
  {
   "cell_type": "code",
   "execution_count": null,
   "id": "33753d7c",
   "metadata": {},
   "outputs": [],
   "source": []
  }
 ],
 "metadata": {
  "kernelspec": {
   "display_name": "image_analysis",
   "language": "python",
   "name": "python3"
  },
  "language_info": {
   "codemirror_mode": {
    "name": "ipython",
    "version": 3
   },
   "file_extension": ".py",
   "mimetype": "text/x-python",
   "name": "python",
   "nbconvert_exporter": "python",
   "pygments_lexer": "ipython3",
   "version": "3.11.6"
  }
 },
 "nbformat": 4,
 "nbformat_minor": 5
}
