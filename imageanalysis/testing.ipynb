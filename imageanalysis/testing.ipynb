{
 "cells": [
  {
   "cell_type": "code",
   "execution_count": null,
   "id": "a3118850",
   "metadata": {},
   "outputs": [],
   "source": [
    "from data_loader import DataLoader, EELSLazyLoader\n",
    "from filters import *\n",
    "\n",
    "fp = '/home/somar/Desktop/own_stuff/cleaning script/example data files/SuperScan-MAADF_2025-02-26T153932.717062_2048x2048_0.ndata1'\n",
    "\n",
    "ds = DataLoader(fp)\n",
    "\n",
    "data = ds.raw_data\n",
    "metadata = ds.raw_metadata\n",
    "\n",
    "len(data), len(metadata)\n",
    "img = data[0]\n",
    "# print(img.shape)\n",
    "# print(metadata[1].keys())\n",
    "\n",
    "\n"
   ]
  },
  {
   "cell_type": "code",
   "execution_count": null,
   "id": "81dc914f",
   "metadata": {},
   "outputs": [],
   "source": []
  },
  {
   "cell_type": "code",
   "execution_count": null,
   "id": "d0ac0814",
   "metadata": {},
   "outputs": [],
   "source": []
  }
 ],
 "metadata": {
  "kernelspec": {
   "display_name": "image_analysis",
   "language": "python",
   "name": "python3"
  },
  "language_info": {
   "codemirror_mode": {
    "name": "ipython",
    "version": 3
   },
   "file_extension": ".py",
   "mimetype": "text/x-python",
   "name": "python",
   "nbconvert_exporter": "python",
   "pygments_lexer": "ipython3",
   "version": "3.11.6"
  }
 },
 "nbformat": 4,
 "nbformat_minor": 5
}
