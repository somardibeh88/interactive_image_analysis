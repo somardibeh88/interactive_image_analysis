{
 "cells": [
  {
   "cell_type": "code",
   "execution_count": null,
   "id": "61d5ce97",
   "metadata": {},
   "outputs": [],
   "source": [
    "%matplotlib qt5\n",
    "import numpy as np\n",
    "from image_analysis_lastversion08_04_2025 import InteractiveImageAnalysis\n",
    "\n",
    "font_path = \"/home/somar/.fonts/SourceSansPro-Semibold.otf\" \n",
    "\n",
    "stacks = ['/home/somar/Desktop/2025/Data for publication/Multilayer graphene/Sample 2476/stack_test.h5']\n",
    "stacks_ssb = ['/home/somar/Desktop/2025/Data for publication/Sample 2525/SSB reconstruction of 4d STEM data/stack_ssbs.h5']\n",
    "stacks_ssb1 = ['/home/somar/Desktop/2025/Data for publication/Sample 2525/SSB reconstruction of 4d STEM data/stack_testing.h5']\n",
    "\n",
    "stacks_adf = ['/home/somar/Desktop/2025/Data for publication/Sample 2525/ADF images/stack.h5']\n",
    "\n",
    "stack = stacks[0]\n",
    "s = '/home/somar/test /stack.h5'\n",
    "image_analysis = InteractiveImageAnalysis(stacks_ssb1[0], metadata_path=None, analysing_features=False, save_images_with_calibrated_scalebar=True, fixed_length_scalebar=True,\n",
    "                                           clean_graphene_analysis=True, contamination_analysis=False, clusters_analysis=True , defects_analysis=False, font_path=font_path)"
   ]
  },
  {
   "cell_type": "code",
   "execution_count": null,
   "id": "325eae28",
   "metadata": {},
   "outputs": [],
   "source": []
  }
 ],
 "metadata": {
  "kernelspec": {
   "display_name": "image_analysis",
   "language": "python",
   "name": "python3"
  },
  "language_info": {
   "codemirror_mode": {
    "name": "ipython",
    "version": 3
   },
   "file_extension": ".py",
   "mimetype": "text/x-python",
   "name": "python",
   "nbconvert_exporter": "python",
   "pygments_lexer": "ipython3",
   "version": "3.11.6"
  }
 },
 "nbformat": 4,
 "nbformat_minor": 5
}
