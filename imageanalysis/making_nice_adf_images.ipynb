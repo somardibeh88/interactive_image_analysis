{
 "cells": [
  {
   "cell_type": "code",
   "execution_count": null,
   "id": "647d836e",
   "metadata": {},
   "outputs": [],
   "source": [
    "from making_stacks import *\n",
    "dir = '/home/somar/Desktop/2025/Data for publication/Nice ADF images/'\n",
    "# process_directory_h5(dir, sort_by='fov')"
   ]
  },
  {
   "cell_type": "code",
   "execution_count": null,
   "id": "d60fc418",
   "metadata": {},
   "outputs": [],
   "source": [
    "%matplotlib qt5\n",
    "from imageanalysis.image_processing import CalibratedImages\n",
    "\n",
    "\n",
    "dir = '/home/somar/Desktop/2025/Data for publication/Nice ADF images/'\n",
    "font_path = \"/home/somar/.fonts/SourceSansPro-Semibold.otf\" \n",
    "adf_stacks =   [dir + 'Sample 2522/02-09-2025/stack.h5',\n",
    "                dir + 'Sample 2525/30-05-2025/stack.h5',\n",
    "                dir + 'Sample 2525/29-07-2025/stack.h5',\n",
    "                dir + 'Sample 2525/30-07-2025/stack.h5',\n",
    "                dir + 'Sample 2525/31-07-2025/stack.h5',\n",
    "                dir + 'Sample 2525/26-08-2025/stack.h5',\n",
    "                dir + 'Sample 2525/02-09-2025/stack.h5']\n",
    "images = CalibratedImages(adf_stacks[6], font_path=font_path)\n"
   ]
  },
  {
   "cell_type": "code",
   "execution_count": null,
   "id": "ebfe3f13",
   "metadata": {},
   "outputs": [],
   "source": []
  }
 ],
 "metadata": {
  "kernelspec": {
   "display_name": "image_analysis",
   "language": "python",
   "name": "python3"
  },
  "language_info": {
   "codemirror_mode": {
    "name": "ipython",
    "version": 3
   },
   "file_extension": ".py",
   "mimetype": "text/x-python",
   "name": "python",
   "nbconvert_exporter": "python",
   "pygments_lexer": "ipython3",
   "version": "3.11.6"
  }
 },
 "nbformat": 4,
 "nbformat_minor": 5
}
