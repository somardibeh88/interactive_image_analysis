{
 "cells": [
  {
   "cell_type": "code",
   "execution_count": null,
   "id": "ff58e580",
   "metadata": {},
   "outputs": [],
   "source": [
    "from imageanalysis.making_stacks import *\n",
    "dir = '/home/somar/Desktop/2025/Data for publication/Multilayer graphene/Sample 2476/'\n",
    "process_directory_h5(dir, output_file='different_sides.h5',sort_by='time')"
   ]
  },
  {
   "cell_type": "code",
   "execution_count": null,
   "id": "eb18b2b1",
   "metadata": {},
   "outputs": [],
   "source": [
    "%matplotlib qt5\n",
    "font_path = \"/home/somar/.fonts/SourceSansPro-Semibold.otf\" \n",
    "\n",
    "different_sides_irradiation = '/home/somar/Desktop/2025/Data for publication/Multilayer graphene/Sample 2476/different_sides.h5'\n",
    "\n",
    "from imageanalysis.calibrated_images_class import CalibratedImages\n",
    "calibrated_images = CalibratedImages(different_sides_irradiation, font_path=font_path)"
   ]
  },
  {
   "cell_type": "code",
   "execution_count": null,
   "id": "2338170e",
   "metadata": {},
   "outputs": [
    {
     "ename": "TypeError",
     "evalue": "FeaturesAnalysis.__init__() got an unexpected keyword argument 'font_size'",
     "output_type": "error",
     "traceback": [
      "\u001b[0;31m---------------------------------------------------------------------------\u001b[0m",
      "\u001b[0;31mTypeError\u001b[0m                                 Traceback (most recent call last)",
      "Cell \u001b[0;32mIn[1], line 7\u001b[0m\n\u001b[1;32m      4\u001b[0m different_sides_irradiation \u001b[38;5;241m=\u001b[39m \u001b[38;5;124m'\u001b[39m\u001b[38;5;124m/home/somar/Desktop/2025/Data for publication/Multilayer graphene/Sample 2476/different_sides.h5\u001b[39m\u001b[38;5;124m'\u001b[39m\n\u001b[1;32m      5\u001b[0m \u001b[38;5;28;01mfrom\u001b[39;00m \u001b[38;5;21;01mimageanalysis\u001b[39;00m\u001b[38;5;21;01m.\u001b[39;00m\u001b[38;5;21;01mfeatures_analysis_class\u001b[39;00m \u001b[38;5;28;01mimport\u001b[39;00m FeaturesAnalysis\n\u001b[0;32m----> 7\u001b[0m features_analysis \u001b[38;5;241m=\u001b[39m \u001b[43mFeaturesAnalysis\u001b[49m\u001b[43m(\u001b[49m\u001b[43mdifferent_sides_irradiation\u001b[49m\u001b[43m,\u001b[49m\u001b[43m \u001b[49m\u001b[43mfont_path\u001b[49m\u001b[38;5;241;43m=\u001b[39;49m\u001b[43mfont_path\u001b[49m\u001b[43m,\u001b[49m\u001b[43m \u001b[49m\u001b[43mfont_size\u001b[49m\u001b[38;5;241;43m=\u001b[39;49m\u001b[38;5;241;43m8\u001b[39;49m\u001b[43m)\u001b[49m\n",
      "\u001b[0;31mTypeError\u001b[0m: FeaturesAnalysis.__init__() got an unexpected keyword argument 'font_size'"
     ]
    }
   ],
   "source": [
    "%matplotlib qt5\n",
    "font_path = \"/home/somar/.fonts/SourceSansPro-Semibold.otf\" \n",
    "\n",
    "different_sides_irradiation = '/home/somar/Desktop/2025/Data for publication/Multilayer graphene/Sample 2476/different_sides.h5'\n",
    "from imageanalysis.features_analysis_class import FeaturesAnalysis\n",
    "\n",
    "features_analysis = FeaturesAnalysis(different_sides_irradiation, font_path=font_path)"
   ]
  }
 ],
 "metadata": {
  "kernelspec": {
   "display_name": "image_analysis",
   "language": "python",
   "name": "python3"
  },
  "language_info": {
   "codemirror_mode": {
    "name": "ipython",
    "version": 3
   },
   "file_extension": ".py",
   "mimetype": "text/x-python",
   "name": "python",
   "nbconvert_exporter": "python",
   "pygments_lexer": "ipython3",
   "version": "3.11.6"
  }
 },
 "nbformat": 4,
 "nbformat_minor": 5
}
