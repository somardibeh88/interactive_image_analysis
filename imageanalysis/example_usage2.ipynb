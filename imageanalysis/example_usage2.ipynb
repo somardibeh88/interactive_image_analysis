{
 "cells": [
  {
   "cell_type": "code",
   "execution_count": null,
   "id": "ff58e580",
   "metadata": {},
   "outputs": [],
   "source": [
    "from imageanalysis.making_stacks import *\n",
    "dir = '/home/somar/Desktop/2025/Data for publication/Multilayer graphene/Sample 2476/'\n",
    "process_directory_h5(dir, output_file='different_sides.h5',sort_by='time')"
   ]
  },
  {
   "cell_type": "code",
   "execution_count": null,
   "id": "eb18b2b1",
   "metadata": {},
   "outputs": [],
   "source": [
    "%matplotlib qt5\n",
    "font_path = \"/home/somar/.fonts/SourceSansPro-Semibold.otf\" \n",
    "\n",
    "different_sides_irradiation = '/home/somar/Desktop/2025/Data for publication/Multilayer graphene/Sample 2476/different_sides.h5'\n",
    "\n",
    "from imageanalysis.calibrated_images_class import CalibratedImages\n",
    "calibrated_images = CalibratedImages(different_sides_irradiation, font_path=font_path)"
   ]
  },
  {
   "cell_type": "code",
   "execution_count": null,
   "id": "2338170e",
   "metadata": {},
   "outputs": [],
   "source": [
    "%matplotlib qt5\n",
    "font_path = \"/home/somar/.fonts/SourceSansPro-Semibold.otf\" \n",
    "\n",
    "different_sides_irradiation = '/home/somar/Desktop/2025/Data for publication/Multilayer graphene/Sample 2476/different_sides.h5'\n",
    "from imageanalysis.features_analysis_class import FeaturesAnalysis\n",
    "\n",
    "features_analysis = FeaturesAnalysis(different_sides_irradiation, font_path=font_path)"
   ]
  },
  {
   "cell_type": "code",
   "execution_count": null,
   "id": "0bf29d74",
   "metadata": {},
   "outputs": [],
   "source": [
    "import pandas as pd\n",
    "pd.set_option('display.max_columns', None)\n",
    "pd.set_option('display.max_rows', None)\n",
    "\n",
    "datafile = 'Sample_2476/cluster_density_analysis/4l_gr.csv'\n",
    "# datafile = 'analysis_results.csv'\n",
    "df = pd.read_csv(datafile)\n",
    "df['Histogram_Peaks']\n",
    "df"
   ]
  },
  {
   "cell_type": "code",
   "execution_count": null,
   "id": "a7dfd896",
   "metadata": {},
   "outputs": [],
   "source": []
  }
 ],
 "metadata": {
  "kernelspec": {
   "display_name": "image_analysis",
   "language": "python",
   "name": "python3"
  },
  "language_info": {
   "codemirror_mode": {
    "name": "ipython",
    "version": 3
   },
   "file_extension": ".py",
   "mimetype": "text/x-python",
   "name": "python",
   "nbconvert_exporter": "python",
   "pygments_lexer": "ipython3",
   "version": "3.11.6"
  }
 },
 "nbformat": 4,
 "nbformat_minor": 5
}
