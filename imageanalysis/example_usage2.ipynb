{
 "cells": [
  {
   "cell_type": "code",
   "execution_count": null,
   "id": "eb18b2b1",
   "metadata": {},
   "outputs": [],
   "source": [
    "%matplotlib qt5\n",
    "font_path = \"/home/somar/.fonts/SourceSansPro-Semibold.otf\" \n",
    "stacks_ssb_2525 = ['/home/somar/Desktop/2025/Data for publication/ssb images/Sample 2525/09-04 After laser before heating/stacks.h5']\n",
    "\n",
    "\n",
    "stacks_ssb_2344 = ['/home/somar/Desktop/2025/Data for publication/ssb images/Sample 2344/after pt evaporation/stacks.h5']\n",
    "\n",
    "stack_2525 = stacks_ssb_2525[0]\n",
    "stack_2344 = stacks_ssb_2344[0]\n",
    "\n",
    "from imageanalysis.calibrated_images_class import CalibratedImages\n",
    "calibrated_images = CalibratedImages(stack_2344, font_path=font_path)"
   ]
  }
 ],
 "metadata": {
  "kernelspec": {
   "display_name": "image_analysis",
   "language": "python",
   "name": "python3"
  },
  "language_info": {
   "codemirror_mode": {
    "name": "ipython",
    "version": 3
   },
   "file_extension": ".py",
   "mimetype": "text/x-python",
   "name": "python",
   "nbconvert_exporter": "python",
   "pygments_lexer": "ipython3",
   "version": "3.11.6"
  }
 },
 "nbformat": 4,
 "nbformat_minor": 5
}
