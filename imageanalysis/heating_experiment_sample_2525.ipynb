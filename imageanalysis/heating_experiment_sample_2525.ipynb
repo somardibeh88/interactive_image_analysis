{
 "cells": [
  {
   "cell_type": "code",
   "execution_count": 1,
   "id": "440afee0",
   "metadata": {},
   "outputs": [],
   "source": [
    "%matplotlib qt5\n",
    "font_path = \"/home/somar/.fonts/SourceSansPro-Semibold.otf\" \n",
    "\n",
    "before_heating = '/home/somar/Desktop/2025/Data for publication/Sample 2525/before heating 150/stacks.h5'\n",
    "after_heating = '/home/somar/Desktop/2025/Data for publication/Sample 2525/after heating 150/stacks.h5'\n",
    "from imageanalysis.feature_analysis import FeaturesAnalysis\n",
    "from imageanalysis.image_processing import CalibratedImages"
   ]
  },
  {
   "cell_type": "code",
   "execution_count": null,
   "id": "83ba9c21",
   "metadata": {},
   "outputs": [],
   "source": [
    "# Feature analysis\n",
    "stack_before = FeaturesAnalysis(before_heating, font_path=font_path)\n",
    "# stack_after = FeaturesAnalysis(after_heating, font_path=font_path)\n"
   ]
  }
 ],
 "metadata": {
  "kernelspec": {
   "display_name": "image_analysis",
   "language": "python",
   "name": "python3"
  },
  "language_info": {
   "codemirror_mode": {
    "name": "ipython",
    "version": 3
   },
   "file_extension": ".py",
   "mimetype": "text/x-python",
   "name": "python",
   "nbconvert_exporter": "python",
   "pygments_lexer": "ipython3",
   "version": "3.11.6"
  }
 },
 "nbformat": 4,
 "nbformat_minor": 5
}
