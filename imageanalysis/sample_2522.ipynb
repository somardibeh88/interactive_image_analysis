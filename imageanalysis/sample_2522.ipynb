{
 "cells": [
  {
   "cell_type": "code",
   "execution_count": null,
   "id": "f46a7e31",
   "metadata": {},
   "outputs": [],
   "source": [
    "from imageanalysis.making_stacks import *\n",
    "dir1 = '/home/somar/Desktop/2025/Data for publication/Sample 2522/Before heating/'\n",
    "dir2 = '/home/somar/Desktop/2025/Data for publication/Sample 2522/After heating/'\n",
    "# process_directory_h5(dir1, output_file='before_heating.h5',sort_by='time')\n",
    "# process_directory_h5(dir2, output_file='after_heating.h5',sort_by='time')"
   ]
  },
  {
   "cell_type": "code",
   "execution_count": null,
   "id": "ec88b256",
   "metadata": {},
   "outputs": [],
   "source": [
    "%matplotlib qt5\n",
    "from imageanalysis.image_processing import CalibratedImages\n",
    "\n",
    "font_path = \"/home/somar/.fonts/SourceSansPro-Semibold.otf\"\n",
    "\n",
    "before_heating = dir1 + 'before_heating.h5'\n",
    "after_heating = dir2 + 'after_heating.h5'\n",
    "\n",
    "# stack_before_heating = CalibratedImages(before_heating, font_path=font_path)\n"
   ]
  },
  {
   "cell_type": "code",
   "execution_count": null,
   "id": "44c3991e",
   "metadata": {},
   "outputs": [],
   "source": [
    "stack_after_heating = CalibratedImages(after_heating, font_path=font_path)"
   ]
  },
  {
   "cell_type": "code",
   "execution_count": null,
   "id": "001c8683",
   "metadata": {},
   "outputs": [],
   "source": [
    "from imageanalysis.feature_analysis import FeaturesAnalysis\n",
    "\n",
    "features_before_heating = FeaturesAnalysis(before_heating, font_path=font_path)\n"
   ]
  },
  {
   "cell_type": "code",
   "execution_count": null,
   "id": "c712ef8a",
   "metadata": {},
   "outputs": [],
   "source": [
    "features_after_heating = FeaturesAnalysis(after_heating, font_path=font_path)\n"
   ]
  },
  {
   "cell_type": "code",
   "execution_count": null,
   "id": "a5c61733",
   "metadata": {},
   "outputs": [],
   "source": [
    "import pandas as pd\n",
    "pd.set_option('display.max_columns', None)  # Show all columns\n",
    "pd.set_option('display.max_rows', None)     # Show all rows\n",
    "fp = 'Sample_2522/before_heating/atom_density/ml_gr.csv'\n",
    "df = pd.read_csv(fp)\n",
    "total_num_of_atoms = df['Number_of_Clusters'].sum() + df['Num_Atoms'].sum()\n",
    "print(f'Total number of atoms before heating in area investigated: {total_num_of_atoms}')\n",
    "atom_density = (df['Number_of_Clusters'].sum() + df['Num_Atoms'].sum()) / (df['Clean_Area_nm2'].sum())\n",
    "print(f'Atom density before heating: {atom_density:.4f} atoms/nm^2')\n",
    "\n",
    "fp_after = 'Sample_2522/after_heating/atom_density/ml_gr.csv'\n",
    "df_after = pd.read_csv(fp_after)\n",
    "total_num_of_atoms_after = df_after['Number_of_Clusters'].sum() + df_after['Num_Atoms'].sum()\n",
    "print(f'Total number of atoms after heating in the same area investigated: {total_num_of_atoms_after}')\n",
    "atom_density_after = (df_after['Number_of_Clusters'].sum() + df_after['Num_Atoms'].sum()) / (df_after['Clean_Area_nm2'].sum())\n",
    "print(f'Atom density after heating: {atom_density_after:.4f} atoms/nm^2')\n",
    "\n",
    "print(f'Density change: {1/ (atom_density_after / atom_density):.1f} times decrease after heating.')"
   ]
  },
  {
   "cell_type": "code",
   "execution_count": null,
   "id": "2692a8bd",
   "metadata": {},
   "outputs": [],
   "source": [
    "import pandas as pd\n",
    "pd.set_option('display.max_columns', None)  # Show all columns\n",
    "pd.set_option('display.max_rows', None)     # Show all rows\n",
    "fp = 'Sample_2522/before_heating/atom_density/ml_gr.csv'\n",
    "df = pd.read_csv(fp)\n",
    "df"
   ]
  },
  {
   "cell_type": "code",
   "execution_count": null,
   "id": "1aec75a6",
   "metadata": {},
   "outputs": [],
   "source": [
    "import pandas as pd\n",
    "pd.set_option('display.max_columns', None)  # Show all columns\n",
    "pd.set_option('display.max_rows', None)     # Show all rows\n",
    "results = 'analysis_results.csv'\n",
    "df_results = pd.read_csv(results)\n",
    "df_results"
   ]
  }
 ],
 "metadata": {
  "kernelspec": {
   "display_name": "image_analysis",
   "language": "python",
   "name": "python3"
  },
  "language_info": {
   "codemirror_mode": {
    "name": "ipython",
    "version": 3
   },
   "file_extension": ".py",
   "mimetype": "text/x-python",
   "name": "python",
   "nbconvert_exporter": "python",
   "pygments_lexer": "ipython3",
   "version": "3.11.6"
  }
 },
 "nbformat": 4,
 "nbformat_minor": 5
}
