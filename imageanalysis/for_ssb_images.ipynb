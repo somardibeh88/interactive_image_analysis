{
 "cells": [
  {
   "cell_type": "code",
   "execution_count": null,
   "id": "fc286d90",
   "metadata": {},
   "outputs": [],
   "source": [
    "# Sample 2344\n",
    "%matplotlib qt5\n",
    "from imageanalysis.image_processing import CalibratedImages\n",
    "font_path = \"/home/somar/.fonts/SourceSansPro-Semibold.otf\" \n",
    "\n",
    "ssb_stacks = ['/home/somar/Desktop/2025/Data for publication/ssb images/Sample 2344/after heating 150/stacks.h5',\n",
    "              '/home/somar/Desktop/2025/Data for publication/ssb images/Sample 2344/after heating 200/stacks.h5',\n",
    "                '/home/somar/Desktop/2025/Data for publication/ssb images/Sample 2344/after pt evaporation/stacks.h5']\n",
    "\n",
    "ssb_images = CalibratedImages(ssb_stacks[0], font_path=font_path)"
   ]
  },
  {
   "cell_type": "code",
   "execution_count": null,
   "id": "409af03b",
   "metadata": {},
   "outputs": [],
   "source": []
  }
 ],
 "metadata": {
  "kernelspec": {
   "display_name": "image_analysis",
   "language": "python",
   "name": "python3"
  },
  "language_info": {
   "codemirror_mode": {
    "name": "ipython",
    "version": 3
   },
   "file_extension": ".py",
   "mimetype": "text/x-python",
   "name": "python",
   "nbconvert_exporter": "python",
   "pygments_lexer": "ipython3",
   "version": "3.11.6"
  }
 },
 "nbformat": 4,
 "nbformat_minor": 5
}
